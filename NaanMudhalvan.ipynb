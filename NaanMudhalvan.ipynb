{
  "nbformat": 4,
  "nbformat_minor": 0,
  "metadata": {
    "colab": {
      "provenance": []
    },
    "kernelspec": {
      "name": "python3",
      "display_name": "Python 3"
    },
    "language_info": {
      "name": "python"
    }
  },
  "cells": [
    {
      "cell_type": "code",
      "execution_count": 1,
      "metadata": {
        "id": "tDP17APcX1hg"
      },
      "outputs": [],
      "source": [
        "import pandas as pd\n"
      ]
    },
    {
      "cell_type": "code",
      "source": [
        "import numpy as np"
      ],
      "metadata": {
        "id": "8hnpTi7FYB_l"
      },
      "execution_count": 2,
      "outputs": []
    },
    {
      "cell_type": "code",
      "source": [
        "!pip install pycryptodome\n",
        "\n"
      ],
      "metadata": {
        "colab": {
          "base_uri": "https://localhost:8080/"
        },
        "id": "WgvdfPJGafQn",
        "outputId": "dc40baac-3669-46b5-fb3a-e3d15cbc830f"
      },
      "execution_count": 3,
      "outputs": [
        {
          "output_type": "stream",
          "name": "stdout",
          "text": [
            "Collecting pycryptodome\n",
            "  Downloading pycryptodome-3.21.0-cp36-abi3-manylinux_2_17_x86_64.manylinux2014_x86_64.whl.metadata (3.4 kB)\n",
            "Downloading pycryptodome-3.21.0-cp36-abi3-manylinux_2_17_x86_64.manylinux2014_x86_64.whl (2.3 MB)\n",
            "\u001b[2K   \u001b[90m━━━━━━━━━━━━━━━━━━━━━━━━━━━━━━━━━━━━━━━━\u001b[0m \u001b[32m2.3/2.3 MB\u001b[0m \u001b[31m19.6 MB/s\u001b[0m eta \u001b[36m0:00:00\u001b[0m\n",
            "\u001b[?25hInstalling collected packages: pycryptodome\n",
            "Successfully installed pycryptodome-3.21.0\n"
          ]
        }
      ]
    },
    {
      "cell_type": "code",
      "source": [
        "from Crypto.PublicKey import RSA\n",
        "from Crypto.Cipher import AES, PKCS1_OAEP\n",
        "from Crypto.Random import get_random_bytes\n",
        "from base64 import b64encode, b64decode\n"
      ],
      "metadata": {
        "id": "nNpOFF4qaj7n"
      },
      "execution_count": 4,
      "outputs": []
    },
    {
      "cell_type": "code",
      "source": [
        "def setup_group():\n",
        "    key = RSA.generate(2048)  # Generate a 2048-bit RSA key pair\n",
        "    private_key = key.export_key()\n",
        "    public_key = key.publickey().export_key()\n",
        "    return public_key, private_key"
      ],
      "metadata": {
        "id": "HomgJtz1avV9"
      },
      "execution_count": 5,
      "outputs": []
    },
    {
      "cell_type": "code",
      "source": [
        "def encrypt_data(data, public_key):\n",
        "    # Generate a random symmetric key (AES-256) for data encryption\n",
        "    symmetric_key = get_random_bytes(32)\n",
        "\n",
        "    # Encrypt data using AES\n",
        "    cipher_aes = AES.new(symmetric_key, AES.MODE_GCM)\n",
        "    ciphertext, tag = cipher_aes.encrypt_and_digest(data.encode())\n",
        "\n",
        "    # Encrypt the symmetric key with RSA public key\n",
        "    rsa_key = RSA.import_key(public_key)\n",
        "    cipher_rsa = PKCS1_OAEP.new(rsa_key)\n",
        "    encrypted_symmetric_key = cipher_rsa.encrypt(symmetric_key)\n",
        "\n",
        "    # Return ciphertext, RSA-encrypted AES key, tag, and nonce\n",
        "    return b64encode(ciphertext).decode(), b64encode(encrypted_symmetric_key).decode(), b64encode(tag).decode(), b64encode(cipher_aes.nonce).decode()"
      ],
      "metadata": {
        "id": "-x9LMvW_axfN"
      },
      "execution_count": 6,
      "outputs": []
    },
    {
      "cell_type": "code",
      "source": [
        "def decrypt_data(ciphertext, encrypted_symmetric_key, tag, nonce, private_key):\n",
        "    # Import the private RSA key\n",
        "    rsa_key = RSA.import_key(private_key)\n",
        "    cipher_rsa = PKCS1_OAEP.new(rsa_key)\n",
        "\n",
        "    # Decrypt the symmetric key with RSA private key\n",
        "    symmetric_key = cipher_rsa.decrypt(b64decode(encrypted_symmetric_key))\n",
        "\n",
        "    # Decrypt the data using AES\n",
        "    cipher_aes = AES.new(symmetric_key, AES.MODE_GCM, nonce=b64decode(nonce))\n",
        "    decrypted_data = cipher_aes.decrypt_and_verify(b64decode(ciphertext), b64decode(tag))\n",
        "    return decrypted_data.decode()"
      ],
      "metadata": {
        "id": "bk9Ei7nqax73"
      },
      "execution_count": 7,
      "outputs": []
    },
    {
      "cell_type": "code",
      "source": [
        "if __name__ == \"__main__\":\n",
        "    # Step 1: Setup group keys\n",
        "    public_key, private_key = setup_group()\n",
        "\n",
        "    # Data to be shared\n",
        "    data = \"Confidential data for group members only.\"\n",
        "\n",
        "    # Encrypt data for the group\n",
        "    ciphertext, encrypted_symmetric_key, tag, nonce = encrypt_data(data, public_key)\n",
        "    print(\"Encrypted Data:\", ciphertext)\n",
        "    print(\"Encrypted Symmetric Key:\", encrypted_symmetric_key)\n",
        "    print(\"Tag:\", tag)\n",
        "    print(\"Nonce:\", nonce)\n",
        "\n",
        "    # Decrypt data as a group member with access to the private key\n",
        "    decrypted_data = decrypt_data(ciphertext, encrypted_symmetric_key, tag, nonce, private_key)\n",
        "    print(\"Decrypted Data:\", decrypted_data)"
      ],
      "metadata": {
        "colab": {
          "base_uri": "https://localhost:8080/"
        },
        "id": "hW-hJRhJa_J1",
        "outputId": "61e6a4d3-c0dd-40b8-e288-8ae5fa21559a"
      },
      "execution_count": 8,
      "outputs": [
        {
          "output_type": "stream",
          "name": "stdout",
          "text": [
            "Encrypted Data: ZeLrdKLM9vc8V6s8Z7WIwFSHmrWKGE7w7o4irQ7Ppjvf6QyU1G7rstc=\n",
            "Encrypted Symmetric Key: fKvCUF00opZMTcuWis1CZFil7A9eNyn37y3k8telqWdm1sSRDywS5MLcCvplBLbVHGKox9aWbokA71fwaCLZ31o0NjsGdfwqhweL3T+nGAEqyuYVjvv4K3OE6cOg0MJS41lVDbIeVgjdGDwregFrOQrnIcRzzYk4zjz0Ao7oraeXCAzGQuZZF8meJU8R4hOqxuhG9BqXslpxiWPs6owJK1NJUdLHpMdbNN1cki5YYw6Mfqiok6vK0cwZrIUhSd7vo1IYUpBH+hMYpV2qjDTdJMbc6g5q7uIPwpNFoLrPAYCueHJhN5EOC2Ynxdfex69tx+YnBjDWRE7clYvulhEUgQ==\n",
            "Tag: XBQYDhJmndSJGNHoUuNKUQ==\n",
            "Nonce: I4B8q7CjTHOqd2j3kr670g==\n",
            "Decrypted Data: Confidential data for group members only.\n"
          ]
        }
      ]
    }
  ]
}